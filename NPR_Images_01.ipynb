{
 "cells": [
  {
   "cell_type": "code",
   "execution_count": null,
   "metadata": {
    "scrolled": true
   },
   "outputs": [],
   "source": [
    "import requests\n",
    "\n",
    "res = requests.get(\"https://www.npr.org\")\n",
    "print(res.text)"
   ]
  },
  {
   "cell_type": "code",
   "execution_count": null,
   "metadata": {
    "scrolled": true
   },
   "outputs": [],
   "source": [
    "from bs4 import BeautifulSoup\n",
    "soup = BeautifulSoup(res.text, 'html.parser')"
   ]
  },
  {
   "cell_type": "code",
   "execution_count": null,
   "metadata": {
    "scrolled": false
   },
   "outputs": [],
   "source": [
    "images = soup.find_all('img')\n",
    "img_links = [img['src'] for img in images]\n",
    "img_links"
   ]
  },
  {
   "cell_type": "code",
   "execution_count": 34,
   "metadata": {},
   "outputs": [
    {
     "data": {
      "text/html": [
       "<img src=\"https://media.npr.org/assets/img/2020/07/31/ap_20210680804046_wide-d77cd82ca9720aa6e100407641f289c30d95a3d1-s400-c15.jpg\" width=\"450\" height=\"250\"/>"
      ],
      "text/plain": [
       "<IPython.core.display.Image object>"
      ]
     },
     "metadata": {},
     "output_type": "display_data"
    },
    {
     "data": {
      "text/html": [
       "<img src=\"https://media.npr.org/assets/img/2020/07/31/dm2_crew_cassidy_iss_wide-566910b4fa41a32e2c1ad97b81167a822c8d2134-s900-c15.jpg\" width=\"450\" height=\"250\"/>"
      ],
      "text/plain": [
       "<IPython.core.display.Image object>"
      ]
     },
     "metadata": {},
     "output_type": "display_data"
    },
    {
     "data": {
      "text/html": [
       "<img src=\"https://media.npr.org/assets/img/2020/07/31/2020-2.-photo-credit---matthew-reeve_wide-5446d0dd201bf6851445484dbbdc34467c87ad08-s400-c15.jpg\" width=\"450\" height=\"250\"/>"
      ],
      "text/plain": [
       "<IPython.core.display.Image object>"
      ]
     },
     "metadata": {},
     "output_type": "display_data"
    },
    {
     "data": {
      "text/html": [
       "<img src=\"https://media.npr.org/assets/img/2020/07/31/seamus-coronavirus-d3-us-map-20200312_wide-9ec377cf65a806705337050b63843ea8a7848535-s900-c15.png\" width=\"450\" height=\"250\"/>"
      ],
      "text/plain": [
       "<IPython.core.display.Image object>"
      ]
     },
     "metadata": {},
     "output_type": "display_data"
    },
    {
     "data": {
      "text/html": [
       "<img src=\"https://media.npr.org/assets/img/2020/07/28/lyric-copy_wide-5f9bc7d9e88451bf6c3547e75b59467de4434cfe-s800-c85.jpg\" width=\"450\" height=\"250\"/>"
      ],
      "text/plain": [
       "<IPython.core.display.Image object>"
      ]
     },
     "metadata": {},
     "output_type": "display_data"
    },
    {
     "data": {
      "text/html": [
       "<img src=\"https://media.npr.org/assets/img/2020/07/27/thaonguyen_tdhc_thumb_wide-c9fc6d8cb7fe6eb80a515dfe60b0e141e5e3c919-s800-c85.jpg\" width=\"450\" height=\"250\"/>"
      ],
      "text/plain": [
       "<IPython.core.display.Image object>"
      ]
     },
     "metadata": {},
     "output_type": "display_data"
    },
    {
     "data": {
      "text/html": [
       "<img src=\"https://media.npr.org/assets/img/2020/07/24/lucinda-copy_wide-e6dea4941ad6862d6b601725d919f2cc21db5bd1-s800-c85.jpg\" width=\"450\" height=\"250\"/>"
      ],
      "text/plain": [
       "<IPython.core.display.Image object>"
      ]
     },
     "metadata": {},
     "output_type": "display_data"
    },
    {
     "data": {
      "text/html": [
       "<img src=\"https://media.npr.org/assets/img/2020/07/21/thumb_wide-635d26225c2c45bf836e71c10314ffa0fa434f25-s800-c85.jpg\" width=\"450\" height=\"250\"/>"
      ],
      "text/plain": [
       "<IPython.core.display.Image object>"
      ]
     },
     "metadata": {},
     "output_type": "display_data"
    },
    {
     "data": {
      "text/html": [
       "<img src=\"https://media.npr.org/assets/img/2020/07/20/tomadams_thumb_wide-65e34c9610ad2265652725c971b17a7f8bb6b260-s800-c85.jpg\" width=\"450\" height=\"250\"/>"
      ],
      "text/plain": [
       "<IPython.core.display.Image object>"
      ]
     },
     "metadata": {},
     "output_type": "display_data"
    },
    {
     "data": {
      "text/html": [
       "<img src=\"https://media.npr.org/assets/img/2020/07/17/lenny-copy_wide-2259465cf70bf1e7131664d0c671dc934ad8c951-s800-c85.jpg\" width=\"450\" height=\"250\"/>"
      ],
      "text/plain": [
       "<IPython.core.display.Image object>"
      ]
     },
     "metadata": {},
     "output_type": "display_data"
    }
   ],
   "source": [
    "\n",
    "from IPython.core.display import Image, HTML, display\n",
    "\n",
    "for raw_img in img_links[-15:-5]:\n",
    "    display(Image(url = raw_img, height=250,width=450))"
   ]
  },
  {
   "cell_type": "code",
   "execution_count": null,
   "metadata": {},
   "outputs": [],
   "source": []
  }
 ],
 "metadata": {
  "kernelspec": {
   "display_name": "Python 3",
   "language": "python",
   "name": "python3"
  },
  "language_info": {
   "codemirror_mode": {
    "name": "ipython",
    "version": 3
   },
   "file_extension": ".py",
   "mimetype": "text/x-python",
   "name": "python",
   "nbconvert_exporter": "python",
   "pygments_lexer": "ipython3",
   "version": "3.7.1"
  }
 },
 "nbformat": 4,
 "nbformat_minor": 2
}
